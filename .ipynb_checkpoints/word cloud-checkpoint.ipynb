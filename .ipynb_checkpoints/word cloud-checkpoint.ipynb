{
 "cells": [
  {
   "cell_type": "markdown",
   "metadata": {},
   "source": [
    "### Getting the tweet data from the stored csv file"
   ]
  },
  {
   "cell_type": "code",
   "execution_count": 1,
   "metadata": {},
   "outputs": [
    {
     "data": {
      "text/html": [
       "<div>\n",
       "<style scoped>\n",
       "    .dataframe tbody tr th:only-of-type {\n",
       "        vertical-align: middle;\n",
       "    }\n",
       "\n",
       "    .dataframe tbody tr th {\n",
       "        vertical-align: top;\n",
       "    }\n",
       "\n",
       "    .dataframe thead th {\n",
       "        text-align: right;\n",
       "    }\n",
       "</style>\n",
       "<table border=\"1\" class=\"dataframe\">\n",
       "  <thead>\n",
       "    <tr style=\"text-align: right;\">\n",
       "      <th></th>\n",
       "      <th>id</th>\n",
       "      <th>created_at</th>\n",
       "      <th>text</th>\n",
       "    </tr>\n",
       "  </thead>\n",
       "  <tbody>\n",
       "    <tr>\n",
       "      <th>0</th>\n",
       "      <td>861272595198562306</td>\n",
       "      <td>2017-05-07 17:32:43</td>\n",
       "      <td>b'RT @BloodAid: #Jhalawar #Rajasthan Need 2 un...</td>\n",
       "    </tr>\n",
       "    <tr>\n",
       "      <th>1</th>\n",
       "      <td>861271974873636865</td>\n",
       "      <td>2017-05-07 17:30:15</td>\n",
       "      <td>b'Majestic #Rajasthan is our editors pick of t...</td>\n",
       "    </tr>\n",
       "    <tr>\n",
       "      <th>2</th>\n",
       "      <td>861271946142633984</td>\n",
       "      <td>2017-05-07 17:30:08</td>\n",
       "      <td>b'How to Experience the #Maharaja Life in Bika...</td>\n",
       "    </tr>\n",
       "    <tr>\n",
       "      <th>3</th>\n",
       "      <td>861271921710608388</td>\n",
       "      <td>2017-05-07 17:30:02</td>\n",
       "      <td>b'RT @BloodAid: #Jhalawar #Rajasthan Need 2 un...</td>\n",
       "    </tr>\n",
       "    <tr>\n",
       "      <th>4</th>\n",
       "      <td>861271215201058817</td>\n",
       "      <td>2017-05-07 17:27:14</td>\n",
       "      <td>b'RT @BloodAid: #Jhalawar #Rajasthan Need 2 un...</td>\n",
       "    </tr>\n",
       "  </tbody>\n",
       "</table>\n",
       "</div>"
      ],
      "text/plain": [
       "                   id           created_at  \\\n",
       "0  861272595198562306  2017-05-07 17:32:43   \n",
       "1  861271974873636865  2017-05-07 17:30:15   \n",
       "2  861271946142633984  2017-05-07 17:30:08   \n",
       "3  861271921710608388  2017-05-07 17:30:02   \n",
       "4  861271215201058817  2017-05-07 17:27:14   \n",
       "\n",
       "                                                text  \n",
       "0  b'RT @BloodAid: #Jhalawar #Rajasthan Need 2 un...  \n",
       "1  b'Majestic #Rajasthan is our editors pick of t...  \n",
       "2  b'How to Experience the #Maharaja Life in Bika...  \n",
       "3  b'RT @BloodAid: #Jhalawar #Rajasthan Need 2 un...  \n",
       "4  b'RT @BloodAid: #Jhalawar #Rajasthan Need 2 un...  "
      ]
     },
     "execution_count": 1,
     "metadata": {},
     "output_type": "execute_result"
    }
   ],
   "source": [
    "import pandas as pd\n",
    "tweets=pd.read_csv(\"rajsthan.csv\")\n",
    "tweets.head()"
   ]
  },
  {
   "cell_type": "code",
   "execution_count": 2,
   "metadata": {},
   "outputs": [
    {
     "data": {
      "text/html": [
       "<div>\n",
       "<style scoped>\n",
       "    .dataframe tbody tr th:only-of-type {\n",
       "        vertical-align: middle;\n",
       "    }\n",
       "\n",
       "    .dataframe tbody tr th {\n",
       "        vertical-align: top;\n",
       "    }\n",
       "\n",
       "    .dataframe thead th {\n",
       "        text-align: right;\n",
       "    }\n",
       "</style>\n",
       "<table border=\"1\" class=\"dataframe\">\n",
       "  <thead>\n",
       "    <tr style=\"text-align: right;\">\n",
       "      <th></th>\n",
       "      <th>id</th>\n",
       "      <th>created_at</th>\n",
       "      <th>text</th>\n",
       "    </tr>\n",
       "  </thead>\n",
       "  <tbody>\n",
       "    <tr>\n",
       "      <th>995</th>\n",
       "      <td>860542477169606656</td>\n",
       "      <td>2017-05-05 17:11:29</td>\n",
       "      <td>b'RT @ashokgehlot51: Why so mch hype ws create...</td>\n",
       "    </tr>\n",
       "    <tr>\n",
       "      <th>996</th>\n",
       "      <td>860542221233344512</td>\n",
       "      <td>2017-05-05 17:10:28</td>\n",
       "      <td>b'Unleash the colors of Rajasthan @GulmoharSar...</td>\n",
       "    </tr>\n",
       "    <tr>\n",
       "      <th>997</th>\n",
       "      <td>860541885827485696</td>\n",
       "      <td>2017-05-05 17:09:08</td>\n",
       "      <td>b'RT @ashokgehlot51: 470 MOUs n only 38 projec...</td>\n",
       "    </tr>\n",
       "    <tr>\n",
       "      <th>998</th>\n",
       "      <td>860541691052384256</td>\n",
       "      <td>2017-05-05 17:08:21</td>\n",
       "      <td>b'RT @ashokgehlot51: ....May his dream of buil...</td>\n",
       "    </tr>\n",
       "    <tr>\n",
       "      <th>999</th>\n",
       "      <td>860541591932604418</td>\n",
       "      <td>2017-05-05 17:07:58</td>\n",
       "      <td>b'RT @ashokgehlot51: The promise of providing ...</td>\n",
       "    </tr>\n",
       "  </tbody>\n",
       "</table>\n",
       "</div>"
      ],
      "text/plain": [
       "                     id           created_at  \\\n",
       "995  860542477169606656  2017-05-05 17:11:29   \n",
       "996  860542221233344512  2017-05-05 17:10:28   \n",
       "997  860541885827485696  2017-05-05 17:09:08   \n",
       "998  860541691052384256  2017-05-05 17:08:21   \n",
       "999  860541591932604418  2017-05-05 17:07:58   \n",
       "\n",
       "                                                  text  \n",
       "995  b'RT @ashokgehlot51: Why so mch hype ws create...  \n",
       "996  b'Unleash the colors of Rajasthan @GulmoharSar...  \n",
       "997  b'RT @ashokgehlot51: 470 MOUs n only 38 projec...  \n",
       "998  b'RT @ashokgehlot51: ....May his dream of buil...  \n",
       "999  b'RT @ashokgehlot51: The promise of providing ...  "
      ]
     },
     "execution_count": 2,
     "metadata": {},
     "output_type": "execute_result"
    }
   ],
   "source": [
    "tweets.tail()"
   ]
  },
  {
   "cell_type": "markdown",
   "metadata": {},
   "source": [
    "### Dropping the irrelevant id coloumn from the dataset"
   ]
  },
  {
   "cell_type": "code",
   "execution_count": 3,
   "metadata": {},
   "outputs": [
    {
     "data": {
      "text/html": [
       "<div>\n",
       "<style scoped>\n",
       "    .dataframe tbody tr th:only-of-type {\n",
       "        vertical-align: middle;\n",
       "    }\n",
       "\n",
       "    .dataframe tbody tr th {\n",
       "        vertical-align: top;\n",
       "    }\n",
       "\n",
       "    .dataframe thead th {\n",
       "        text-align: right;\n",
       "    }\n",
       "</style>\n",
       "<table border=\"1\" class=\"dataframe\">\n",
       "  <thead>\n",
       "    <tr style=\"text-align: right;\">\n",
       "      <th></th>\n",
       "      <th>created_at</th>\n",
       "      <th>text</th>\n",
       "    </tr>\n",
       "  </thead>\n",
       "  <tbody>\n",
       "    <tr>\n",
       "      <th>0</th>\n",
       "      <td>2017-05-07 17:32:43</td>\n",
       "      <td>b'RT @BloodAid: #Jhalawar #Rajasthan Need 2 un...</td>\n",
       "    </tr>\n",
       "    <tr>\n",
       "      <th>1</th>\n",
       "      <td>2017-05-07 17:30:15</td>\n",
       "      <td>b'Majestic #Rajasthan is our editors pick of t...</td>\n",
       "    </tr>\n",
       "    <tr>\n",
       "      <th>2</th>\n",
       "      <td>2017-05-07 17:30:08</td>\n",
       "      <td>b'How to Experience the #Maharaja Life in Bika...</td>\n",
       "    </tr>\n",
       "    <tr>\n",
       "      <th>3</th>\n",
       "      <td>2017-05-07 17:30:02</td>\n",
       "      <td>b'RT @BloodAid: #Jhalawar #Rajasthan Need 2 un...</td>\n",
       "    </tr>\n",
       "    <tr>\n",
       "      <th>4</th>\n",
       "      <td>2017-05-07 17:27:14</td>\n",
       "      <td>b'RT @BloodAid: #Jhalawar #Rajasthan Need 2 un...</td>\n",
       "    </tr>\n",
       "  </tbody>\n",
       "</table>\n",
       "</div>"
      ],
      "text/plain": [
       "            created_at                                               text\n",
       "0  2017-05-07 17:32:43  b'RT @BloodAid: #Jhalawar #Rajasthan Need 2 un...\n",
       "1  2017-05-07 17:30:15  b'Majestic #Rajasthan is our editors pick of t...\n",
       "2  2017-05-07 17:30:08  b'How to Experience the #Maharaja Life in Bika...\n",
       "3  2017-05-07 17:30:02  b'RT @BloodAid: #Jhalawar #Rajasthan Need 2 un...\n",
       "4  2017-05-07 17:27:14  b'RT @BloodAid: #Jhalawar #Rajasthan Need 2 un..."
      ]
     },
     "execution_count": 3,
     "metadata": {},
     "output_type": "execute_result"
    }
   ],
   "source": [
    "tweets.drop('id', axis=1, inplace=True)\n",
    "tweets.head()"
   ]
  },
  {
   "cell_type": "markdown",
   "metadata": {},
   "source": [
    "### Removes puntuation from the text coloumn"
   ]
  },
  {
   "cell_type": "code",
   "execution_count": 4,
   "metadata": {},
   "outputs": [
    {
     "data": {
      "text/html": [
       "<div>\n",
       "<style scoped>\n",
       "    .dataframe tbody tr th:only-of-type {\n",
       "        vertical-align: middle;\n",
       "    }\n",
       "\n",
       "    .dataframe tbody tr th {\n",
       "        vertical-align: top;\n",
       "    }\n",
       "\n",
       "    .dataframe thead th {\n",
       "        text-align: right;\n",
       "    }\n",
       "</style>\n",
       "<table border=\"1\" class=\"dataframe\">\n",
       "  <thead>\n",
       "    <tr style=\"text-align: right;\">\n",
       "      <th></th>\n",
       "      <th>created_at</th>\n",
       "      <th>text</th>\n",
       "    </tr>\n",
       "  </thead>\n",
       "  <tbody>\n",
       "    <tr>\n",
       "      <th>0</th>\n",
       "      <td>2017-05-07 17:32:43</td>\n",
       "      <td>brt bloodaid jhalawar rajasthan need 2 units a...</td>\n",
       "    </tr>\n",
       "    <tr>\n",
       "      <th>1</th>\n",
       "      <td>2017-05-07 17:30:15</td>\n",
       "      <td>bmajestic rajasthan is our editors pick of the...</td>\n",
       "    </tr>\n",
       "    <tr>\n",
       "      <th>2</th>\n",
       "      <td>2017-05-07 17:30:08</td>\n",
       "      <td>bhow to experience the maharaja life in bikane...</td>\n",
       "    </tr>\n",
       "    <tr>\n",
       "      <th>3</th>\n",
       "      <td>2017-05-07 17:30:02</td>\n",
       "      <td>brt bloodaid jhalawar rajasthan need 2 units a...</td>\n",
       "    </tr>\n",
       "    <tr>\n",
       "      <th>4</th>\n",
       "      <td>2017-05-07 17:27:14</td>\n",
       "      <td>brt bloodaid jhalawar rajasthan need 2 units a...</td>\n",
       "    </tr>\n",
       "  </tbody>\n",
       "</table>\n",
       "</div>"
      ],
      "text/plain": [
       "            created_at                                               text\n",
       "0  2017-05-07 17:32:43  brt bloodaid jhalawar rajasthan need 2 units a...\n",
       "1  2017-05-07 17:30:15  bmajestic rajasthan is our editors pick of the...\n",
       "2  2017-05-07 17:30:08  bhow to experience the maharaja life in bikane...\n",
       "3  2017-05-07 17:30:02  brt bloodaid jhalawar rajasthan need 2 units a...\n",
       "4  2017-05-07 17:27:14  brt bloodaid jhalawar rajasthan need 2 units a..."
      ]
     },
     "execution_count": 4,
     "metadata": {},
     "output_type": "execute_result"
    }
   ],
   "source": [
    "import string\n",
    "tweets[\"text\"]=tweets[\"text\"].str.lower()\n",
    "tweets[\"text\"] =list(map(lambda x: \"\".join(l for l in x if l not in string.punctuation),tweets[\"text\"]))\n",
    "tweets.head()"
   ]
  },
  {
   "cell_type": "markdown",
   "metadata": {},
   "source": [
    "### Removes links,emoji,special characters and whitespaces"
   ]
  },
  {
   "cell_type": "code",
   "execution_count": 5,
   "metadata": {},
   "outputs": [
    {
     "data": {
      "text/html": [
       "<div>\n",
       "<style scoped>\n",
       "    .dataframe tbody tr th:only-of-type {\n",
       "        vertical-align: middle;\n",
       "    }\n",
       "\n",
       "    .dataframe tbody tr th {\n",
       "        vertical-align: top;\n",
       "    }\n",
       "\n",
       "    .dataframe thead th {\n",
       "        text-align: right;\n",
       "    }\n",
       "</style>\n",
       "<table border=\"1\" class=\"dataframe\">\n",
       "  <thead>\n",
       "    <tr style=\"text-align: right;\">\n",
       "      <th></th>\n",
       "      <th>created_at</th>\n",
       "      <th>text</th>\n",
       "    </tr>\n",
       "  </thead>\n",
       "  <tbody>\n",
       "    <tr>\n",
       "      <th>0</th>\n",
       "      <td>2017-05-07 17:32:43</td>\n",
       "      <td>bloodaid jhalawar rajasthan need 2 units a bl...</td>\n",
       "    </tr>\n",
       "    <tr>\n",
       "      <th>1</th>\n",
       "      <td>2017-05-07 17:30:15</td>\n",
       "      <td>bmajestic rajasthan is our editors pick of the...</td>\n",
       "    </tr>\n",
       "    <tr>\n",
       "      <th>2</th>\n",
       "      <td>2017-05-07 17:30:08</td>\n",
       "      <td>bhow to experience the maharaja life in bikane...</td>\n",
       "    </tr>\n",
       "    <tr>\n",
       "      <th>3</th>\n",
       "      <td>2017-05-07 17:30:02</td>\n",
       "      <td>bloodaid jhalawar rajasthan need 2 units a bl...</td>\n",
       "    </tr>\n",
       "    <tr>\n",
       "      <th>4</th>\n",
       "      <td>2017-05-07 17:27:14</td>\n",
       "      <td>bloodaid jhalawar rajasthan need 2 units a bl...</td>\n",
       "    </tr>\n",
       "  </tbody>\n",
       "</table>\n",
       "</div>"
      ],
      "text/plain": [
       "            created_at                                               text\n",
       "0  2017-05-07 17:32:43   bloodaid jhalawar rajasthan need 2 units a bl...\n",
       "1  2017-05-07 17:30:15  bmajestic rajasthan is our editors pick of the...\n",
       "2  2017-05-07 17:30:08  bhow to experience the maharaja life in bikane...\n",
       "3  2017-05-07 17:30:02   bloodaid jhalawar rajasthan need 2 units a bl...\n",
       "4  2017-05-07 17:27:14   bloodaid jhalawar rajasthan need 2 units a bl..."
      ]
     },
     "execution_count": 5,
     "metadata": {},
     "output_type": "execute_result"
    }
   ],
   "source": [
    "import re\n",
    "tweets[\"text\"] =list(map(lambda x: re.sub(r'http\\S+', '', x),tweets[\"text\"]))\n",
    "tweets[\"text\"] =list(map(lambda x: re.sub(r'[^\\w]', ' ', x),tweets[\"text\"]))\n",
    "tweets[\"text\"] =list(map(lambda x: re.sub(r'\\s+', ' ', x),tweets[\"text\"]))\n",
    "tweets[\"text\"] =list(map(lambda x: x.replace('brt',''),tweets[\"text\"]))\n",
    "tweets.head()"
   ]
  },
  {
   "cell_type": "markdown",
   "metadata": {},
   "source": [
    "### Drop all rows with entry NAN and reset the index"
   ]
  },
  {
   "cell_type": "code",
   "execution_count": 6,
   "metadata": {},
   "outputs": [],
   "source": [
    "tweets.dropna(axis=0, how='any',inplace=True)\n",
    "tweets = tweets.reset_index(drop=True)"
   ]
  },
  {
   "cell_type": "markdown",
   "metadata": {},
   "source": [
    "### Remove duplicate entries if any"
   ]
  },
  {
   "cell_type": "code",
   "execution_count": 7,
   "metadata": {},
   "outputs": [],
   "source": [
    "tweets.drop_duplicates(subset='text', keep=\"last\",inplace=True)\n",
    "tweets = tweets.reset_index(drop=True)"
   ]
  },
  {
   "cell_type": "markdown",
   "metadata": {},
   "source": [
    "# Seperate +/-/neutral words"
   ]
  },
  {
   "cell_type": "code",
   "execution_count": 8,
   "metadata": {
    "scrolled": true
   },
   "outputs": [
    {
     "name": "stderr",
     "output_type": "stream",
     "text": [
      "/home/ayush/anaconda3/lib/python3.7/site-packages/nltk/twitter/__init__.py:20: UserWarning: The twython library has not been installed. Some functionality from the twitter package will not be available.\n",
      "  warnings.warn(\"The twython library has not been installed. \"\n"
     ]
    }
   ],
   "source": [
    "import nltk\n",
    "from nltk.sentiment.vader import SentimentIntensityAnalyzer\n",
    "from textblob import TextBlob\n",
    "sid = SentimentIntensityAnalyzer()\n",
    "pos_word_list=[]\n",
    "neu_word_list=[]\n",
    "neg_word_list=[]\n",
    "for x in tweets[\"text\"]:\n",
    "    if x:\n",
    "        for word in TextBlob(x).words:\n",
    "            if (sid.polarity_scores(word)['compound']) >= 0.1:\n",
    "                pos_word_list.append(word)\n",
    "            elif (sid.polarity_scores(word)['compound']) <= -0.1:\n",
    "                neg_word_list.append(word)\n",
    "            else:\n",
    "                neu_word_list.append(word)  "
   ]
  },
  {
   "cell_type": "markdown",
   "metadata": {},
   "source": [
    "### Retaining only POSITIVE and NEUTRAL words with frequency more than 5\n",
    "### Taking all the NEGATIVE words as they are very few"
   ]
  },
  {
   "cell_type": "code",
   "execution_count": 9,
   "metadata": {},
   "outputs": [],
   "source": [
    "from collections import Counter\n",
    "c = Counter(pos_word_list)\n",
    "pos_data=[]\n",
    "for key, value in c.items():\n",
    "    if value>5:\n",
    "        pos_data.append(key)\n",
    "pos_word_list=pos_data"
   ]
  },
  {
   "cell_type": "code",
   "execution_count": 10,
   "metadata": {},
   "outputs": [],
   "source": [
    "c = Counter(neu_word_list)\n",
    "neu_data=[]\n",
    "for key, value in c.items():\n",
    "    if value>5:\n",
    "        neu_data.append(key)\n",
    "neu_word_list=neu_data"
   ]
  },
  {
   "cell_type": "markdown",
   "metadata": {},
   "source": [
    "# Plots word cloud"
   ]
  },
  {
   "cell_type": "code",
   "execution_count": 18,
   "metadata": {},
   "outputs": [
    {
     "data": {
      "image/png": "[encoded data removed]",
      "text/plain": [
       "<Figure size 432x288 with 1 Axes>"
      ]
     },
     "metadata": {
      "needs_background": "light"
     },
     "output_type": "display_data"
    }
   ],
   "source": [
    "%matplotlib inline\n",
    "from wordcloud import (WordCloud, get_single_color_func,STOPWORDS)\n",
    "import matplotlib.pyplot as plt\n",
    "text=' '.join(tweets['text'])\n",
    "class GroupedColorFunc(object):\n",
    "    def __init__(self, color_to_words, default_color):\n",
    "        self.color_func_to_words = [\n",
    "            (get_single_color_func(color), set(words))\n",
    "            for (color, words) in color_to_words.items()]\n",
    "\n",
    "        self.default_color_func = get_single_color_func(default_color)\n",
    "\n",
    "    def get_color_func(self, word):\n",
    "        \"\"\"Returns a single_color_func associated with the word\"\"\"\n",
    "        try:\n",
    "            color_func = next(\n",
    "                color_func for (color_func, words) in self.color_func_to_words\n",
    "                if word in words)\n",
    "        except StopIteration:\n",
    "            color_func = self.default_color_func\n",
    "\n",
    "        return color_func\n",
    "\n",
    "    def __call__(self, word, **kwargs):\n",
    "        return self.get_color_func(word)(word, **kwargs)\n",
    "    \n",
    "\n",
    "# Since the text is small, collocations are turned off and text is lower-cased\n",
    "more_stopwords = {'ashokgehlot51''come','couldnt','need','bwhat','units','new','sell','takes','summary','make',\n",
    "                 'roshni03','bjp','medical','check','bloodaid','killed','httxe2x80xa6','xe2x80xa6','nrajasthan',\n",
    "                 'go','selling','due','may','top','ba','rajasthanxe2x80xa6','bthe','b6','bwe','xe2x80x93'}\n",
    "STOPWORDS = STOPWORDS.union(more_stopwords)\n",
    "\n",
    "wc = WordCloud(width=600, height=400,collocations=False,max_words=100, min_font_size=8,stopwords=STOPWORDS).generate(text)\n",
    "\n",
    "color_to_words = {\n",
    "    # words below will be colored with a green single color function\n",
    "    'white': pos_word_list,\n",
    "    # will be colored with a red single color function\n",
    "    'green': neu_word_list,\n",
    "    'red':neg_word_list\n",
    "}\n",
    "\n",
    "\n",
    "# Words that are not in any of the color_to_words values\n",
    "# will be colored with a grey single color function\n",
    "default_color = 'black'\n",
    "\n",
    "# Create a color function with single tone\n",
    "# grouped_color_func = SimpleGroupedColorFunc(color_to_words, default_color)\n",
    "\n",
    "# Create a color function with multiple tones\n",
    "grouped_color_func = GroupedColorFunc(color_to_words, default_color)\n",
    "\n",
    "# Apply our color function\n",
    "wc.recolor(color_func=grouped_color_func)\n",
    "\n",
    "# Plot\n",
    "plt.figure()\n",
    "plt.imshow(wc, interpolation=\"bilinear\")\n",
    "plt.axis(\"off\")\n",
    "plt.show()"
   ]
  },
  {
   "cell_type": "markdown",
   "metadata": {},
   "source": [
    "# Plot frequency datewise"
   ]
  },
  {
   "cell_type": "code",
   "execution_count": 12,
   "metadata": {},
   "outputs": [],
   "source": [
    "#counts tweets date wise\n",
    "import re\n",
    "count07=0\n",
    "count06=0\n",
    "count05=0\n",
    "for x in tweets['created_at']:\n",
    "    if re.search(\"2017-05-07\",x):\n",
    "        count07=count07+1\n",
    "    elif re.search(\"2017-05-06\",x):\n",
    "        count06=count06+1\n",
    "    else:\n",
    "        count05=count05+1"
   ]
  },
  {
   "cell_type": "code",
   "execution_count": 14,
   "metadata": {},
   "outputs": [
    {
     "data": {
      "text/plain": [
       "281"
      ]
     },
     "execution_count": 14,
     "metadata": {},
     "output_type": "execute_result"
    }
   ],
   "source": [
    "count07+count06+count05"
   ]
  },
  {
   "cell_type": "code",
   "execution_count": 13,
   "metadata": {},
   "outputs": [
    {
     "name": "stdout",
     "output_type": "stream",
     "text": [
      "Using matplotlib backend: Qt5Agg\n"
     ]
    },
    {
     "data": {
      "text/plain": [
       "Text(0,0.5,'No Of Tweets')"
      ]
     },
     "execution_count": 13,
     "metadata": {},
     "output_type": "execute_result"
    },
    {
     "data": {
      "image/png": "[encoded data removed]",
      "text/plain": [
       "<Figure size 432x288 with 1 Axes>"
      ]
     },
     "metadata": {
      "needs_background": "light"
     },
     "output_type": "display_data"
    }
   ],
   "source": [
    "#plots the graph\n",
    "%matplotlib\n",
    "import matplotlib.pyplot as plt\n",
    "values = [count05,count06,count07]\n",
    "dates = ['05/05/2017','06/05/2017','07/05/2017']\n",
    "xVals = range(len(values))\n",
    "py=plt.plot(xVals, values)\n",
    "plt.xticks(xVals, dates)\n",
    "plt.legend(py,[\"#rajasthantravel\"])\n",
    "plt.xlabel(\"date\")\n",
    "plt.ylabel(\"No Of Tweets\")"
   ]
  }
 ],
 "metadata": {
  "kernelspec": {
   "display_name": "Python 3",
   "language": "python",
   "name": "python3"
  },
  "language_info": {
   "codemirror_mode": {
    "name": "ipython",
    "version": 3
   },
   "file_extension": ".py",
   "mimetype": "text/x-python",
   "name": "python",
   "nbconvert_exporter": "python",
   "pygments_lexer": "ipython3",
   "version": "3.7.0"
  }
 },
 "nbformat": 4,
 "nbformat_minor": 2
}
